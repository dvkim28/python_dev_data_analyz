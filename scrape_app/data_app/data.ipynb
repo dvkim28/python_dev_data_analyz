{
 "cells": [
  {
   "cell_type": "code",
   "id": "initial_id",
   "metadata": {
    "collapsed": true,
    "ExecuteTime": {
     "end_time": "2024-08-27T22:16:12.128311Z",
     "start_time": "2024-08-27T22:16:11.918749Z"
    }
   },
   "source": [
    "import pandas as pd\n",
    "import numpy as np\n",
    "from collections import Counter\n",
    "import re\n",
    "from stop_words import get_stop_words\n",
    "from matplotlib import pyplot as plt\n",
    "from custom_stop import custom_stop_words\n",
    "\n"
   ],
   "outputs": [],
   "execution_count": 56
  },
  {
   "metadata": {
    "ExecuteTime": {
     "end_time": "2024-08-27T22:14:11.695209Z",
     "start_time": "2024-08-27T22:14:11.618268Z"
    }
   },
   "cell_type": "code",
   "source": [
    "df = pd.read_csv('../vacancies.csv')\n",
    "all_text = ' '.join(df['Description'].dropna().astype(str)).lower()\n",
    "stop_words = get_stop_words('en')+custom_stop_words\n",
    "filtered_words = [word for word in all_text.split() if word not in stop_words]\n",
    "word_counts = pd.Series(filtered_words).value_counts()\n",
    "word_counts_df = word_counts.reset_index()\n",
    "word_counts_df.columns = ['Word', 'Frequency']\n",
    "word_counts_df[10:]"
   ],
   "id": "23b74a56f05ca994",
   "outputs": [
    {
     "data": {
      "text/plain": [
       "                    Word  Frequency\n",
       "0                 python        274\n",
       "1                  cloud         85\n",
       "2                 docker         74\n",
       "3                    aws         72\n",
       "4                     ai         66\n",
       "...                  ...        ...\n",
       "5994         бізнесцілей          1\n",
       "5995               якийа          1\n",
       "5996               зможе          1\n",
       "5997  клієнтоорієнтовані          1\n",
       "5998               force          1\n",
       "\n",
       "[5999 rows x 2 columns]"
      ],
      "text/html": [
       "<div>\n",
       "<style scoped>\n",
       "    .dataframe tbody tr th:only-of-type {\n",
       "        vertical-align: middle;\n",
       "    }\n",
       "\n",
       "    .dataframe tbody tr th {\n",
       "        vertical-align: top;\n",
       "    }\n",
       "\n",
       "    .dataframe thead th {\n",
       "        text-align: right;\n",
       "    }\n",
       "</style>\n",
       "<table border=\"1\" class=\"dataframe\">\n",
       "  <thead>\n",
       "    <tr style=\"text-align: right;\">\n",
       "      <th></th>\n",
       "      <th>Word</th>\n",
       "      <th>Frequency</th>\n",
       "    </tr>\n",
       "  </thead>\n",
       "  <tbody>\n",
       "    <tr>\n",
       "      <th>0</th>\n",
       "      <td>python</td>\n",
       "      <td>274</td>\n",
       "    </tr>\n",
       "    <tr>\n",
       "      <th>1</th>\n",
       "      <td>cloud</td>\n",
       "      <td>85</td>\n",
       "    </tr>\n",
       "    <tr>\n",
       "      <th>2</th>\n",
       "      <td>docker</td>\n",
       "      <td>74</td>\n",
       "    </tr>\n",
       "    <tr>\n",
       "      <th>3</th>\n",
       "      <td>aws</td>\n",
       "      <td>72</td>\n",
       "    </tr>\n",
       "    <tr>\n",
       "      <th>4</th>\n",
       "      <td>ai</td>\n",
       "      <td>66</td>\n",
       "    </tr>\n",
       "    <tr>\n",
       "      <th>...</th>\n",
       "      <td>...</td>\n",
       "      <td>...</td>\n",
       "    </tr>\n",
       "    <tr>\n",
       "      <th>5994</th>\n",
       "      <td>бізнесцілей</td>\n",
       "      <td>1</td>\n",
       "    </tr>\n",
       "    <tr>\n",
       "      <th>5995</th>\n",
       "      <td>якийа</td>\n",
       "      <td>1</td>\n",
       "    </tr>\n",
       "    <tr>\n",
       "      <th>5996</th>\n",
       "      <td>зможе</td>\n",
       "      <td>1</td>\n",
       "    </tr>\n",
       "    <tr>\n",
       "      <th>5997</th>\n",
       "      <td>клієнтоорієнтовані</td>\n",
       "      <td>1</td>\n",
       "    </tr>\n",
       "    <tr>\n",
       "      <th>5998</th>\n",
       "      <td>force</td>\n",
       "      <td>1</td>\n",
       "    </tr>\n",
       "  </tbody>\n",
       "</table>\n",
       "<p>5999 rows × 2 columns</p>\n",
       "</div>"
      ]
     },
     "execution_count": 55,
     "metadata": {},
     "output_type": "execute_result"
    }
   ],
   "execution_count": 55
  },
  {
   "metadata": {
    "ExecuteTime": {
     "end_time": "2024-08-27T22:25:20.416458Z",
     "start_time": "2024-08-27T22:25:20.353570Z"
    }
   },
   "cell_type": "code",
   "source": [
    "num_words_to_display = 10\n",
    "top_words = word_counts_df.head(num_words_to_display)\n",
    "popular_stack=plt.bar(top_words['Word'], top_words['Frequency'])\n",
    "plt.xticks(rotation=90)\n",
    "plt.yticks(rotation=0)\n",
    "plt.show()\n"
   ],
   "id": "6d1ba6b67c2b40e2",
   "outputs": [
    {
     "data": {
      "text/plain": [
       "<Figure size 640x480 with 1 Axes>"
      ],
      "image/png": "[encoded data removed]"
     },
     "metadata": {},
     "output_type": "display_data"
    }
   ],
   "execution_count": 70
  },
  {
   "metadata": {},
   "cell_type": "code",
   "outputs": [],
   "execution_count": null,
   "source": "",
   "id": "afa7eac1f1cfb6e1"
  },
  {
   "metadata": {},
   "cell_type": "code",
   "outputs": [],
   "execution_count": null,
   "source": "",
   "id": "5f3f7a1f1beaf7ae"
  }
 ],
 "metadata": {
  "kernelspec": {
   "display_name": "Python 3",
   "language": "python",
   "name": "python3"
  },
  "language_info": {
   "codemirror_mode": {
    "name": "ipython",
    "version": 2
   },
   "file_extension": ".py",
   "mimetype": "text/x-python",
   "name": "python",
   "nbconvert_exporter": "python",
   "pygments_lexer": "ipython2",
   "version": "2.7.6"
  }
 },
 "nbformat": 4,
 "nbformat_minor": 5
}
